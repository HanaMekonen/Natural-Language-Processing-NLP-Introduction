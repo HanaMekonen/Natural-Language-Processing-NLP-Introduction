{
 "cells": [
  {
   "cell_type": "markdown",
   "id": "a378ba7e",
   "metadata": {},
   "source": [
    "# Natural Language Processing (NLP) Assignment\n",
    "This assignment will guide you through the basic concepts of Natural Language Processing including:\n",
    "- Text preprocessing\n",
    "- Tokenization and N-grams\n",
    "- Named Entity Recognition (NER)\n",
    "- Converting text into numbers (vectorization)\n",
    "- Word embeddings (for experienced learners)\n",
    "\n",
    "You can run and modify the code cells below to complete the tasks."
   ]
  },
  {
   "cell_type": "code",
   "execution_count": 5,
   "id": "618ec468",
   "metadata": {},
   "outputs": [
    {
     "name": "stderr",
     "output_type": "stream",
     "text": [
      "[nltk_data] Downloading package punkt to\n",
      "[nltk_data]     C:\\Users\\hp\\AppData\\Roaming\\nltk_data...\n",
      "[nltk_data]   Package punkt is already up-to-date!\n",
      "[nltk_data] Downloading package averaged_perceptron_tagger to\n",
      "[nltk_data]     C:\\Users\\hp\\AppData\\Roaming\\nltk_data...\n",
      "[nltk_data]   Package averaged_perceptron_tagger is already up-to-\n",
      "[nltk_data]       date!\n",
      "[nltk_data] Downloading package maxent_ne_chunker to\n",
      "[nltk_data]     C:\\Users\\hp\\AppData\\Roaming\\nltk_data...\n",
      "[nltk_data]   Package maxent_ne_chunker is already up-to-date!\n",
      "[nltk_data] Downloading package words to\n",
      "[nltk_data]     C:\\Users\\hp\\AppData\\Roaming\\nltk_data...\n",
      "[nltk_data]   Package words is already up-to-date!\n",
      "[nltk_data] Downloading package stopwords to\n",
      "[nltk_data]     C:\\Users\\hp\\AppData\\Roaming\\nltk_data...\n",
      "[nltk_data]   Package stopwords is already up-to-date!\n"
     ]
    }
   ],
   "source": [
    "# Import required libraries\n",
    "import nltk\n",
    "import spacy\n",
    "from sklearn.feature_extraction.text import CountVectorizer, TfidfVectorizer\n",
    "import matplotlib.pyplot as plt\n",
    "from wordcloud import WordCloud\n",
    "import numpy as np\n",
    "import pandas as pd\n",
    "nltk.download('punkt')\n",
    "nltk.download('averaged_perceptron_tagger')\n",
    "nltk.download('maxent_ne_chunker')\n",
    "nltk.download('words')\n",
    "nltk.download('stopwords')\n",
    "from nltk.corpus import stopwords\n",
    "from nltk.tokenize import word_tokenize\n",
    "from nltk import ngrams\n",
    "from nltk.util import bigrams\n",
    "nlp = spacy.load(\"en_core_web_sm\")"
   ]
  },
  {
   "cell_type": "markdown",
   "id": "8f205ef3",
   "metadata": {},
   "source": [
    "## 1. Text Preprocessing\n",
    "Clean the following text by converting it to lowercase, removing punctuation and stop words."
   ]
  },
  {
   "cell_type": "code",
   "execution_count": 18,
   "id": "206169e8",
   "metadata": {},
   "outputs": [
    {
     "name": "stdout",
     "output_type": "stream",
     "text": [
      "['natural', 'language', 'processing', 'fascinating', 'field', 'combines', 'linguistics', 'computer', 'science']\n"
     ]
    }
   ],
   "source": [
    "import string\n",
    "\n",
    "# Sample text\n",
    "text = \"Natural Language Processing is a fascinating field. It combines linguistics and computer science!\"\n",
    "\n",
    "# TODO: Preprocess the text\n",
    "def preprocess(text):\n",
    "    # Convert to lowercase\n",
    "    text_lower = text.lower()\n",
    "    # Tokenize\n",
    "    doc = nlp(text_lower)\n",
    "    tokens = [token.text for token in doc]\n",
    "    # Remove punctuation and stopwords\n",
    "    tokens = [token for token in tokens if token not in string.punctuation]\n",
    "    stop_words = set(stopwords.words('english'))\n",
    "    cleaned_tokens = [token for token in tokens if token not in stop_words]\n",
    "    return cleaned_tokens\n",
    "\n",
    "# Print cleaned tokens\n",
    "cleaned_tokens = preprocess(text)\n",
    "print(cleaned_tokens)\n"
   ]
  },
  {
   "cell_type": "markdown",
   "id": "ca32edd8",
   "metadata": {},
   "source": [
    "## 2. Tokenization and N-grams\n",
    "Generate bigrams (2-grams) from the cleaned tokens."
   ]
  },
  {
   "cell_type": "code",
   "execution_count": 19,
   "id": "8e535f4a",
   "metadata": {},
   "outputs": [
    {
     "name": "stdout",
     "output_type": "stream",
     "text": [
      "Bigrams: [('natural', 'language'), ('language', 'processing'), ('processing', 'fascinating'), ('fascinating', 'field'), ('field', 'combines'), ('combines', 'linguistics'), ('linguistics', 'computer'), ('computer', 'science')]\n"
     ]
    }
   ],
   "source": [
    "# Generate bigrams from cleaned tokens\n",
    "bigrams = list(ngrams(cleaned_tokens, 2))\n",
    "print(\"Bigrams:\", bigrams)"
   ]
  },
  {
   "cell_type": "code",
   "execution_count": 8,
   "id": "c7f6aa1f-e224-49e9-a86e-bea8a868f1e9",
   "metadata": {},
   "outputs": [
    {
     "name": "stdout",
     "output_type": "stream",
     "text": [
      "Tokens: ['natural', 'language', 'processing', 'exciting']\n",
      "Bigrams: [('natural', 'language'), ('language', 'processing'), ('processing', 'exciting')]\n"
     ]
    }
   ],
   "source": [
    "#One more example by merging the above 2 topics.\n",
    "# Sample text\n",
    "text = \"Natural language processing is exciting\"\n",
    "import string\n",
    "# Tokenize\n",
    "doc = nlp(text.lower())\n",
    "tokens = [token.text for token in doc]\n",
    "# Remove punctuation (optional)\n",
    "tokens = [t for t in tokens if t not in string.punctuation]\n",
    "stop_words = set(stopwords.words('english'))\n",
    "tokens = [token for token in tokens if token not in stop_words]\n",
    "\n",
    "# generate bigrams\n",
    "bi = list(bigrams(tokens))\n",
    "\n",
    "# Print results\n",
    "print(\"Tokens:\", tokens)\n",
    "print(\"Bigrams:\", bi)"
   ]
  },
  {
   "cell_type": "markdown",
   "id": "e2e9f098",
   "metadata": {},
   "source": [
    "## 3. Named Entity Recognition (NER)\n",
    "Use spaCy to perform NER on a new sentence."
   ]
  },
  {
   "cell_type": "code",
   "execution_count": 20,
   "id": "1c6f700b",
   "metadata": {},
   "outputs": [
    {
     "name": "stdout",
     "output_type": "stream",
     "text": [
      "Barack Obama PERSON\n",
      "Hawaii GPE\n",
      "2008 DATE\n"
     ]
    }
   ],
   "source": [
    "# Example sentence\n",
    "sentence = \"Barack Obama was born in Hawaii and was elected president in 2008.\"\n",
    "doc = nlp(sentence)\n",
    "for ent in doc.ents:\n",
    "    print(ent.text, ent.label_)"
   ]
  },
  {
   "cell_type": "markdown",
   "id": "06605d22",
   "metadata": {},
   "source": [
    "## 4. Converting Text to Numbers\n",
    "Use CountVectorizer and TfidfVectorizer to convert a list of sentences into numeric vectors."
   ]
  },
  {
   "cell_type": "code",
   "execution_count": 21,
   "id": "3f4f862e",
   "metadata": {},
   "outputs": [
    {
     "name": "stdout",
     "output_type": "stream",
     "text": [
      "Count Vectorizer Output:\n",
      " [[0 0 0 0 1 1 1 0 0 0 0 0]\n",
      " [1 0 1 1 0 0 0 1 1 1 1 0]\n",
      " [1 1 1 0 0 0 0 0 0 0 0 1]]\n",
      "\n",
      "TF-IDF Vectorizer Output:\n",
      " [[0.         0.         0.         0.         0.57735027 0.57735027\n",
      "  0.57735027 0.         0.         0.         0.         0.        ]\n",
      " [0.30650422 0.         0.30650422 0.40301621 0.         0.\n",
      "  0.         0.40301621 0.40301621 0.40301621 0.40301621 0.        ]\n",
      " [0.42804604 0.5628291  0.42804604 0.         0.         0.\n",
      "  0.         0.         0.         0.         0.         0.5628291 ]]\n"
     ]
    }
   ],
   "source": [
    "sentences = [\n",
    "    \"I love machine learning.\",\n",
    "    \"Natural language processing is a part of AI.\",\n",
    "    \"AI is the future.\"\n",
    "]\n",
    "\n",
    "# CountVectorizer\n",
    "count_vec = CountVectorizer()\n",
    "X_count = count_vec.fit_transform(sentences)\n",
    "print(\"Count Vectorizer Output:\\n\", X_count.toarray())\n",
    "\n",
    "# TfidfVectorizer\n",
    "tfidf_vec = TfidfVectorizer()\n",
    "X_tfidf = tfidf_vec.fit_transform(sentences)\n",
    "print(\"\\nTF-IDF Vectorizer Output:\\n\", X_tfidf.toarray())"
   ]
  },
  {
   "cell_type": "markdown",
   "id": "7a8a5198",
   "metadata": {},
   "source": [
    "## 5. Word Embeddings (Advanced)\n",
    "Use spaCy to get word vectors (embeddings) for given words."
   ]
  },
  {
   "cell_type": "code",
   "execution_count": 22,
   "id": "c6d69bde",
   "metadata": {},
   "outputs": [
    {
     "name": "stdout",
     "output_type": "stream",
     "text": [
      "Vector for 'machine':\n",
      " [-1.1848618  -0.5884644  -0.431729    0.04726774  0.15745789 -0.4003174\n",
      "  0.92419213  0.57095623 -0.12864795 -0.3782031   0.0434885  -1.0776316\n",
      " -0.5907476   0.8977387  -0.07443497  1.2179598  -0.47437477 -1.4934833\n",
      "  0.9644136   0.89380246  0.11737019  0.41316557  0.21915573 -0.18460639\n",
      "  0.13433756  1.2257113  -0.25236145  0.42400342  0.12917608 -0.01702237\n",
      " -0.4671869  -1.0976603   1.0032707   0.79694384 -0.08251538 -0.6763874\n",
      "  0.6893894   0.03594261  1.398281   -0.6806841  -0.7026392   0.0651902\n",
      " -0.34503898  0.6320825  -0.88809305 -0.24504882 -0.66866446  0.517808\n",
      "  0.02162796 -0.05917531  0.07430831  0.66209084  1.070316   -0.9029243\n",
      "  0.754373   -0.04681993  0.7206097  -0.3353402  -0.21590832 -0.5775555\n",
      " -0.4421476   0.71672314 -0.6513661  -0.47828794  1.7274861   0.9889608\n",
      " -0.34796178 -0.4340755   0.4084397   0.21592781  1.1011105   0.2514349\n",
      "  1.7605747  -1.0425378  -0.5678966  -0.0391078  -0.12766747 -0.21116531\n",
      "  0.43004888 -0.64141405 -0.39330667 -1.3585734  -1.7262747  -1.0183332\n",
      "  0.00999267  0.84771436 -0.14436895 -0.1693692  -1.0450927   0.34688658\n",
      " -1.5055022  -0.23673707  1.1265874   0.9352774   0.03852278  0.9843566 ]\n"
     ]
    }
   ],
   "source": [
    "# Note: en_core_web_sm does not have word vectors. You can install and use en_core_web_md\n",
    "# Uncomment below to install and load the medium model if needed.\n",
    "# !python -m spacy download en_core_web_md\n",
    "# nlp = spacy.load(\"en_core_web_md\")\n",
    "\n",
    "# Example word vector\n",
    "word = nlp(\"machine\")[0]\n",
    "print(\"Vector for 'machine':\\n\", word.vector)"
   ]
  },
  {
   "cell_type": "code",
   "execution_count": 23,
   "id": "b3ddcc3e-32ba-4276-b9a1-3c427cc2587c",
   "metadata": {},
   "outputs": [
    {
     "name": "stdout",
     "output_type": "stream",
     "text": [
      "Vector for 'machine':\n",
      "[-1.1848618  -0.5884644  -0.431729    0.04726774  0.15745789 -0.4003174\n",
      "  0.92419213  0.57095623 -0.12864795 -0.3782031   0.0434885  -1.0776316\n",
      " -0.5907476   0.8977387  -0.07443497  1.2179598  -0.47437477 -1.4934833\n",
      "  0.9644136   0.89380246  0.11737019  0.41316557  0.21915573 -0.18460639\n",
      "  0.13433756  1.2257113  -0.25236145  0.42400342  0.12917608 -0.01702237\n",
      " -0.4671869  -1.0976603   1.0032707   0.79694384 -0.08251538 -0.6763874\n",
      "  0.6893894   0.03594261  1.398281   -0.6806841  -0.7026392   0.0651902\n",
      " -0.34503898  0.6320825  -0.88809305 -0.24504882 -0.66866446  0.517808\n",
      "  0.02162796 -0.05917531  0.07430831  0.66209084  1.070316   -0.9029243\n",
      "  0.754373   -0.04681993  0.7206097  -0.3353402  -0.21590832 -0.5775555\n",
      " -0.4421476   0.71672314 -0.6513661  -0.47828794  1.7274861   0.9889608\n",
      " -0.34796178 -0.4340755   0.4084397   0.21592781  1.1011105   0.2514349\n",
      "  1.7605747  -1.0425378  -0.5678966  -0.0391078  -0.12766747 -0.21116531\n",
      "  0.43004888 -0.64141405 -0.39330667 -1.3585734  -1.7262747  -1.0183332\n",
      "  0.00999267  0.84771436 -0.14436895 -0.1693692  -1.0450927   0.34688658\n",
      " -1.5055022  -0.23673707  1.1265874   0.9352774   0.03852278  0.9843566 ]\n",
      "Vector dimension: (96,)\n",
      "\n",
      "Vector for 'learning':\n",
      "[-1.4594722e+00  5.9936458e-01 -3.1004959e-01  4.2921251e-01\n",
      " -1.0241096e+00  5.5106938e-01  3.7575635e-01 -2.6011100e-01\n",
      "  5.5513853e-01 -1.2453166e-01  2.5263140e-01 -1.3565844e+00\n",
      " -1.3175735e+00 -1.4823269e+00 -5.6669980e-02  1.1040735e+00\n",
      " -2.7709687e-01 -1.2816268e+00 -2.0102511e-01  1.2386844e+00\n",
      " -1.5972086e+00  2.2881134e+00 -3.5815930e-01  3.5773993e-01\n",
      "  3.4176934e-01  1.0446999e+00  1.8908908e+00  3.1300294e+00\n",
      " -4.9703842e-01 -4.9293169e-01  1.2970011e+00  3.0714074e-01\n",
      " -8.4394872e-02 -9.6888608e-01  1.5032884e-01 -1.3838007e+00\n",
      " -9.4031173e-01  5.5239570e-01 -5.0413561e-01 -3.0695331e-01\n",
      "  8.1264436e-02  1.4575544e-01 -6.6069245e-01 -1.7994699e-01\n",
      " -3.9165160e-01 -9.2760575e-01  1.7734945e+00  4.2333639e-01\n",
      "  1.2714550e+00 -5.3093582e-01  1.5470669e-01  4.0854153e-01\n",
      " -4.3506426e-01 -9.0149808e-01 -9.6679932e-01 -8.6542213e-01\n",
      "  1.1516197e+00  1.4484651e+00 -3.1470633e-01 -6.4992857e-01\n",
      " -1.2681037e+00  5.1661539e-01 -1.1659876e+00  1.3767588e+00\n",
      " -2.3083043e-01  1.1143051e+00 -1.1973274e-01 -4.4457597e-01\n",
      "  1.2329727e+00 -9.7216797e-01  1.5674958e-01 -7.4870920e-01\n",
      "  5.3936255e-01  1.0818579e+00 -8.3904535e-02 -3.9083213e-01\n",
      "  4.5121425e-01  9.1649121e-01  8.0555797e-01 -1.3649101e+00\n",
      " -1.1078574e-01 -5.3599715e-01 -1.1231995e+00 -1.5497302e+00\n",
      " -5.0552779e-01  9.6679759e-01  1.1042429e+00 -6.5014672e-01\n",
      " -1.0482091e-01 -5.5019087e-01 -4.2187017e-01  1.2689253e+00\n",
      "  5.7937878e-01  8.3470964e-01  5.3381920e-04  3.8636249e-01]\n",
      "Vector dimension: (96,)\n",
      "\n",
      "Vector for 'science':\n",
      "[-1.8874433e+00 -5.5029553e-01 -8.5362625e-01  1.7734787e-01\n",
      " -7.4147916e-01 -5.9941411e-01  2.5157934e-01  1.0828770e+00\n",
      " -1.9059122e-02 -7.0802730e-01  5.5068731e-01 -1.1335150e+00\n",
      " -3.6485541e-01 -1.2578738e-01  2.0893644e-01 -1.4136101e-01\n",
      " -5.9212339e-01 -1.4851208e+00  4.3997544e-01 -1.4278692e-01\n",
      " -1.5942374e-01  5.1995778e-01  5.4181254e-01 -6.2957031e-01\n",
      "  1.2382350e+00  6.7293674e-01 -8.1904978e-01  1.3499377e+00\n",
      " -1.1834687e+00  5.5956173e-01  5.1619273e-01  7.3938906e-01\n",
      "  4.0753996e-01  2.1036758e-01 -4.0002939e-01 -1.2390051e+00\n",
      "  9.9114352e-01  7.1817786e-02  1.2942719e+00 -4.9127048e-01\n",
      " -8.0952838e-02  9.6522796e-01 -1.7595255e-01  7.0138514e-01\n",
      " -3.0643418e-01 -3.3800048e-01 -5.4691166e-01  3.0405927e-01\n",
      "  1.6319156e-03 -6.5635967e-01  3.0547279e-01  5.5307791e-02\n",
      "  6.4736599e-01  7.2185266e-01  6.0546851e-01 -1.2269400e+00\n",
      "  4.4293624e-01 -3.4888175e-01  5.2324617e-01 -2.6829508e-01\n",
      " -9.1977841e-01 -9.9507493e-01  1.3832387e+00 -7.4254924e-01\n",
      "  1.6990900e-02  5.9048235e-01 -3.1049380e-01 -6.4148188e-01\n",
      "  4.1335031e-02  9.9817991e-02 -2.1670970e-01  5.5485976e-01\n",
      "  1.1886322e+00  2.6584160e-01 -3.5905880e-01 -1.2818395e-01\n",
      " -9.0485930e-01  5.5696440e-01 -1.8968269e-01 -1.2465885e+00\n",
      "  1.7380247e-01 -4.0137523e-01 -1.4937669e+00 -7.1673203e-01\n",
      "  3.4703857e-01  1.2288835e+00  3.5537976e-01  1.5071207e-01\n",
      " -6.7919254e-01  1.4698482e+00 -7.7674478e-01  1.1340454e-01\n",
      "  1.0332564e+00  1.2869351e+00  1.1881740e+00  5.5020738e-01]\n",
      "Vector dimension: (96,)\n",
      "\n"
     ]
    }
   ],
   "source": [
    "def get_word_vectors(words):\n",
    "    vectors = {}\n",
    "    for word in words:\n",
    "        # Process the word and get the first token's vector\n",
    "        doc = nlp(word)\n",
    "        vectors[word] = doc[0].vector\n",
    "    return vectors\n",
    "\n",
    "# Example usage with words\n",
    "words = [\"machine\", \"learning\", \"science\"]\n",
    "word_vectors = get_word_vectors(words)\n",
    "\n",
    "# Print vectors\n",
    "for word, vector in word_vectors.items():\n",
    "    print(f\"Vector for '{word}':\")\n",
    "    print(vector)\n",
    "    print(f\"Vector dimension: {vector.shape}\\n\")"
   ]
  },
  {
   "cell_type": "code",
   "execution_count": null,
   "id": "50524595-703e-45f9-a56b-e319eb2a95dd",
   "metadata": {},
   "outputs": [],
   "source": []
  }
 ],
 "metadata": {
  "kernelspec": {
   "display_name": "Python 3 (ipykernel)",
   "language": "python",
   "name": "python3"
  },
  "language_info": {
   "codemirror_mode": {
    "name": "ipython",
    "version": 3
   },
   "file_extension": ".py",
   "mimetype": "text/x-python",
   "name": "python",
   "nbconvert_exporter": "python",
   "pygments_lexer": "ipython3",
   "version": "3.8.8"
  }
 },
 "nbformat": 4,
 "nbformat_minor": 5
}
